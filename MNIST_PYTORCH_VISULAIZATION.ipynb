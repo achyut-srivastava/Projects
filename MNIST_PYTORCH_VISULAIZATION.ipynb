{
  "nbformat": 4,
  "nbformat_minor": 0,
  "metadata": {
    "colab": {
      "name": "MNIST_PYTORCH_VISULAIZATION.ipynb",
      "provenance": [],
      "collapsed_sections": [],
      "authorship_tag": "ABX9TyPJFLa1r4ODLBVfRkdmczpL",
      "include_colab_link": true
    },
    "kernelspec": {
      "name": "python3",
      "display_name": "Python 3"
    },
    "widgets": {
      "application/vnd.jupyter.widget-state+json": {
        "08f43dfdab464dbf87ecc77500ebe700": {
          "model_module": "@jupyter-widgets/controls",
          "model_name": "HBoxModel",
          "state": {
            "_view_name": "HBoxView",
            "_dom_classes": [],
            "_model_name": "HBoxModel",
            "_view_module": "@jupyter-widgets/controls",
            "_model_module_version": "1.5.0",
            "_view_count": null,
            "_view_module_version": "1.5.0",
            "box_style": "",
            "layout": "IPY_MODEL_964454db1d3b4001908365e37ed54af0",
            "_model_module": "@jupyter-widgets/controls",
            "children": [
              "IPY_MODEL_29eeddbb2c264f3eb71e72af507c44cb",
              "IPY_MODEL_698429d02bd8490e93424c643c5a8596"
            ]
          }
        },
        "964454db1d3b4001908365e37ed54af0": {
          "model_module": "@jupyter-widgets/base",
          "model_name": "LayoutModel",
          "state": {
            "_view_name": "LayoutView",
            "grid_template_rows": null,
            "right": null,
            "justify_content": null,
            "_view_module": "@jupyter-widgets/base",
            "overflow": null,
            "_model_module_version": "1.2.0",
            "_view_count": null,
            "flex_flow": null,
            "width": null,
            "min_width": null,
            "border": null,
            "align_items": null,
            "bottom": null,
            "_model_module": "@jupyter-widgets/base",
            "top": null,
            "grid_column": null,
            "overflow_y": null,
            "overflow_x": null,
            "grid_auto_flow": null,
            "grid_area": null,
            "grid_template_columns": null,
            "flex": null,
            "_model_name": "LayoutModel",
            "justify_items": null,
            "grid_row": null,
            "max_height": null,
            "align_content": null,
            "visibility": null,
            "align_self": null,
            "height": null,
            "min_height": null,
            "padding": null,
            "grid_auto_rows": null,
            "grid_gap": null,
            "max_width": null,
            "order": null,
            "_view_module_version": "1.2.0",
            "grid_template_areas": null,
            "object_position": null,
            "object_fit": null,
            "grid_auto_columns": null,
            "margin": null,
            "display": null,
            "left": null
          }
        },
        "29eeddbb2c264f3eb71e72af507c44cb": {
          "model_module": "@jupyter-widgets/controls",
          "model_name": "FloatProgressModel",
          "state": {
            "_view_name": "ProgressView",
            "style": "IPY_MODEL_ae277615edcb4d45b4c9e9d93dbdc1a0",
            "_dom_classes": [],
            "description": "",
            "_model_name": "FloatProgressModel",
            "bar_style": "info",
            "max": 1,
            "_view_module": "@jupyter-widgets/controls",
            "_model_module_version": "1.5.0",
            "value": 1,
            "_view_count": null,
            "_view_module_version": "1.5.0",
            "orientation": "horizontal",
            "min": 0,
            "description_tooltip": null,
            "_model_module": "@jupyter-widgets/controls",
            "layout": "IPY_MODEL_4b36919f78ff4473a5938e9b1f5122cc"
          }
        },
        "698429d02bd8490e93424c643c5a8596": {
          "model_module": "@jupyter-widgets/controls",
          "model_name": "HTMLModel",
          "state": {
            "_view_name": "HTMLView",
            "style": "IPY_MODEL_3efb7f9d7dcc4d51b7625cf3301d6e76",
            "_dom_classes": [],
            "description": "",
            "_model_name": "HTMLModel",
            "placeholder": "​",
            "_view_module": "@jupyter-widgets/controls",
            "_model_module_version": "1.5.0",
            "value": " 9920512/? [00:20&lt;00:00, 10297721.86it/s]",
            "_view_count": null,
            "_view_module_version": "1.5.0",
            "description_tooltip": null,
            "_model_module": "@jupyter-widgets/controls",
            "layout": "IPY_MODEL_c1072ad3fa6449bcbfbada82bd301447"
          }
        },
        "ae277615edcb4d45b4c9e9d93dbdc1a0": {
          "model_module": "@jupyter-widgets/controls",
          "model_name": "ProgressStyleModel",
          "state": {
            "_view_name": "StyleView",
            "_model_name": "ProgressStyleModel",
            "description_width": "initial",
            "_view_module": "@jupyter-widgets/base",
            "_model_module_version": "1.5.0",
            "_view_count": null,
            "_view_module_version": "1.2.0",
            "bar_color": null,
            "_model_module": "@jupyter-widgets/controls"
          }
        },
        "4b36919f78ff4473a5938e9b1f5122cc": {
          "model_module": "@jupyter-widgets/base",
          "model_name": "LayoutModel",
          "state": {
            "_view_name": "LayoutView",
            "grid_template_rows": null,
            "right": null,
            "justify_content": null,
            "_view_module": "@jupyter-widgets/base",
            "overflow": null,
            "_model_module_version": "1.2.0",
            "_view_count": null,
            "flex_flow": null,
            "width": null,
            "min_width": null,
            "border": null,
            "align_items": null,
            "bottom": null,
            "_model_module": "@jupyter-widgets/base",
            "top": null,
            "grid_column": null,
            "overflow_y": null,
            "overflow_x": null,
            "grid_auto_flow": null,
            "grid_area": null,
            "grid_template_columns": null,
            "flex": null,
            "_model_name": "LayoutModel",
            "justify_items": null,
            "grid_row": null,
            "max_height": null,
            "align_content": null,
            "visibility": null,
            "align_self": null,
            "height": null,
            "min_height": null,
            "padding": null,
            "grid_auto_rows": null,
            "grid_gap": null,
            "max_width": null,
            "order": null,
            "_view_module_version": "1.2.0",
            "grid_template_areas": null,
            "object_position": null,
            "object_fit": null,
            "grid_auto_columns": null,
            "margin": null,
            "display": null,
            "left": null
          }
        },
        "3efb7f9d7dcc4d51b7625cf3301d6e76": {
          "model_module": "@jupyter-widgets/controls",
          "model_name": "DescriptionStyleModel",
          "state": {
            "_view_name": "StyleView",
            "_model_name": "DescriptionStyleModel",
            "description_width": "",
            "_view_module": "@jupyter-widgets/base",
            "_model_module_version": "1.5.0",
            "_view_count": null,
            "_view_module_version": "1.2.0",
            "_model_module": "@jupyter-widgets/controls"
          }
        },
        "c1072ad3fa6449bcbfbada82bd301447": {
          "model_module": "@jupyter-widgets/base",
          "model_name": "LayoutModel",
          "state": {
            "_view_name": "LayoutView",
            "grid_template_rows": null,
            "right": null,
            "justify_content": null,
            "_view_module": "@jupyter-widgets/base",
            "overflow": null,
            "_model_module_version": "1.2.0",
            "_view_count": null,
            "flex_flow": null,
            "width": null,
            "min_width": null,
            "border": null,
            "align_items": null,
            "bottom": null,
            "_model_module": "@jupyter-widgets/base",
            "top": null,
            "grid_column": null,
            "overflow_y": null,
            "overflow_x": null,
            "grid_auto_flow": null,
            "grid_area": null,
            "grid_template_columns": null,
            "flex": null,
            "_model_name": "LayoutModel",
            "justify_items": null,
            "grid_row": null,
            "max_height": null,
            "align_content": null,
            "visibility": null,
            "align_self": null,
            "height": null,
            "min_height": null,
            "padding": null,
            "grid_auto_rows": null,
            "grid_gap": null,
            "max_width": null,
            "order": null,
            "_view_module_version": "1.2.0",
            "grid_template_areas": null,
            "object_position": null,
            "object_fit": null,
            "grid_auto_columns": null,
            "margin": null,
            "display": null,
            "left": null
          }
        },
        "512681940d0f45c0816f0da7f6f7153d": {
          "model_module": "@jupyter-widgets/controls",
          "model_name": "HBoxModel",
          "state": {
            "_view_name": "HBoxView",
            "_dom_classes": [],
            "_model_name": "HBoxModel",
            "_view_module": "@jupyter-widgets/controls",
            "_model_module_version": "1.5.0",
            "_view_count": null,
            "_view_module_version": "1.5.0",
            "box_style": "",
            "layout": "IPY_MODEL_44956a08ebf84d2293e1e3bd61f9cd21",
            "_model_module": "@jupyter-widgets/controls",
            "children": [
              "IPY_MODEL_598d2aa20a5c49f0b6a245a5c1e56639",
              "IPY_MODEL_3e27d160cda847afb7cb67514894eef5"
            ]
          }
        },
        "44956a08ebf84d2293e1e3bd61f9cd21": {
          "model_module": "@jupyter-widgets/base",
          "model_name": "LayoutModel",
          "state": {
            "_view_name": "LayoutView",
            "grid_template_rows": null,
            "right": null,
            "justify_content": null,
            "_view_module": "@jupyter-widgets/base",
            "overflow": null,
            "_model_module_version": "1.2.0",
            "_view_count": null,
            "flex_flow": null,
            "width": null,
            "min_width": null,
            "border": null,
            "align_items": null,
            "bottom": null,
            "_model_module": "@jupyter-widgets/base",
            "top": null,
            "grid_column": null,
            "overflow_y": null,
            "overflow_x": null,
            "grid_auto_flow": null,
            "grid_area": null,
            "grid_template_columns": null,
            "flex": null,
            "_model_name": "LayoutModel",
            "justify_items": null,
            "grid_row": null,
            "max_height": null,
            "align_content": null,
            "visibility": null,
            "align_self": null,
            "height": null,
            "min_height": null,
            "padding": null,
            "grid_auto_rows": null,
            "grid_gap": null,
            "max_width": null,
            "order": null,
            "_view_module_version": "1.2.0",
            "grid_template_areas": null,
            "object_position": null,
            "object_fit": null,
            "grid_auto_columns": null,
            "margin": null,
            "display": null,
            "left": null
          }
        },
        "598d2aa20a5c49f0b6a245a5c1e56639": {
          "model_module": "@jupyter-widgets/controls",
          "model_name": "FloatProgressModel",
          "state": {
            "_view_name": "ProgressView",
            "style": "IPY_MODEL_18066317cc18476c88be037e168981e5",
            "_dom_classes": [],
            "description": "",
            "_model_name": "FloatProgressModel",
            "bar_style": "info",
            "max": 1,
            "_view_module": "@jupyter-widgets/controls",
            "_model_module_version": "1.5.0",
            "value": 0,
            "_view_count": null,
            "_view_module_version": "1.5.0",
            "orientation": "horizontal",
            "min": 0,
            "description_tooltip": null,
            "_model_module": "@jupyter-widgets/controls",
            "layout": "IPY_MODEL_10b536ffd97543ee89628988bd9cf554"
          }
        },
        "3e27d160cda847afb7cb67514894eef5": {
          "model_module": "@jupyter-widgets/controls",
          "model_name": "HTMLModel",
          "state": {
            "_view_name": "HTMLView",
            "style": "IPY_MODEL_b16aa83e40584d00b689de14c95654e3",
            "_dom_classes": [],
            "description": "",
            "_model_name": "HTMLModel",
            "placeholder": "​",
            "_view_module": "@jupyter-widgets/controls",
            "_model_module_version": "1.5.0",
            "value": " 0/? [00:00&lt;?, ?it/s]",
            "_view_count": null,
            "_view_module_version": "1.5.0",
            "description_tooltip": null,
            "_model_module": "@jupyter-widgets/controls",
            "layout": "IPY_MODEL_b240b3146b5c418595b92affac151fe6"
          }
        },
        "18066317cc18476c88be037e168981e5": {
          "model_module": "@jupyter-widgets/controls",
          "model_name": "ProgressStyleModel",
          "state": {
            "_view_name": "StyleView",
            "_model_name": "ProgressStyleModel",
            "description_width": "initial",
            "_view_module": "@jupyter-widgets/base",
            "_model_module_version": "1.5.0",
            "_view_count": null,
            "_view_module_version": "1.2.0",
            "bar_color": null,
            "_model_module": "@jupyter-widgets/controls"
          }
        },
        "10b536ffd97543ee89628988bd9cf554": {
          "model_module": "@jupyter-widgets/base",
          "model_name": "LayoutModel",
          "state": {
            "_view_name": "LayoutView",
            "grid_template_rows": null,
            "right": null,
            "justify_content": null,
            "_view_module": "@jupyter-widgets/base",
            "overflow": null,
            "_model_module_version": "1.2.0",
            "_view_count": null,
            "flex_flow": null,
            "width": null,
            "min_width": null,
            "border": null,
            "align_items": null,
            "bottom": null,
            "_model_module": "@jupyter-widgets/base",
            "top": null,
            "grid_column": null,
            "overflow_y": null,
            "overflow_x": null,
            "grid_auto_flow": null,
            "grid_area": null,
            "grid_template_columns": null,
            "flex": null,
            "_model_name": "LayoutModel",
            "justify_items": null,
            "grid_row": null,
            "max_height": null,
            "align_content": null,
            "visibility": null,
            "align_self": null,
            "height": null,
            "min_height": null,
            "padding": null,
            "grid_auto_rows": null,
            "grid_gap": null,
            "max_width": null,
            "order": null,
            "_view_module_version": "1.2.0",
            "grid_template_areas": null,
            "object_position": null,
            "object_fit": null,
            "grid_auto_columns": null,
            "margin": null,
            "display": null,
            "left": null
          }
        },
        "b16aa83e40584d00b689de14c95654e3": {
          "model_module": "@jupyter-widgets/controls",
          "model_name": "DescriptionStyleModel",
          "state": {
            "_view_name": "StyleView",
            "_model_name": "DescriptionStyleModel",
            "description_width": "",
            "_view_module": "@jupyter-widgets/base",
            "_model_module_version": "1.5.0",
            "_view_count": null,
            "_view_module_version": "1.2.0",
            "_model_module": "@jupyter-widgets/controls"
          }
        },
        "b240b3146b5c418595b92affac151fe6": {
          "model_module": "@jupyter-widgets/base",
          "model_name": "LayoutModel",
          "state": {
            "_view_name": "LayoutView",
            "grid_template_rows": null,
            "right": null,
            "justify_content": null,
            "_view_module": "@jupyter-widgets/base",
            "overflow": null,
            "_model_module_version": "1.2.0",
            "_view_count": null,
            "flex_flow": null,
            "width": null,
            "min_width": null,
            "border": null,
            "align_items": null,
            "bottom": null,
            "_model_module": "@jupyter-widgets/base",
            "top": null,
            "grid_column": null,
            "overflow_y": null,
            "overflow_x": null,
            "grid_auto_flow": null,
            "grid_area": null,
            "grid_template_columns": null,
            "flex": null,
            "_model_name": "LayoutModel",
            "justify_items": null,
            "grid_row": null,
            "max_height": null,
            "align_content": null,
            "visibility": null,
            "align_self": null,
            "height": null,
            "min_height": null,
            "padding": null,
            "grid_auto_rows": null,
            "grid_gap": null,
            "max_width": null,
            "order": null,
            "_view_module_version": "1.2.0",
            "grid_template_areas": null,
            "object_position": null,
            "object_fit": null,
            "grid_auto_columns": null,
            "margin": null,
            "display": null,
            "left": null
          }
        },
        "2f619f92edea4e17b67544682e0d0d88": {
          "model_module": "@jupyter-widgets/controls",
          "model_name": "HBoxModel",
          "state": {
            "_view_name": "HBoxView",
            "_dom_classes": [],
            "_model_name": "HBoxModel",
            "_view_module": "@jupyter-widgets/controls",
            "_model_module_version": "1.5.0",
            "_view_count": null,
            "_view_module_version": "1.5.0",
            "box_style": "",
            "layout": "IPY_MODEL_1ac099e3c2624cf2a5748b271f8fc41f",
            "_model_module": "@jupyter-widgets/controls",
            "children": [
              "IPY_MODEL_8f6722bd46e0488794308f49f35c4f11",
              "IPY_MODEL_9eb662c9f40845f5b5d63aebab2486a5"
            ]
          }
        },
        "1ac099e3c2624cf2a5748b271f8fc41f": {
          "model_module": "@jupyter-widgets/base",
          "model_name": "LayoutModel",
          "state": {
            "_view_name": "LayoutView",
            "grid_template_rows": null,
            "right": null,
            "justify_content": null,
            "_view_module": "@jupyter-widgets/base",
            "overflow": null,
            "_model_module_version": "1.2.0",
            "_view_count": null,
            "flex_flow": null,
            "width": null,
            "min_width": null,
            "border": null,
            "align_items": null,
            "bottom": null,
            "_model_module": "@jupyter-widgets/base",
            "top": null,
            "grid_column": null,
            "overflow_y": null,
            "overflow_x": null,
            "grid_auto_flow": null,
            "grid_area": null,
            "grid_template_columns": null,
            "flex": null,
            "_model_name": "LayoutModel",
            "justify_items": null,
            "grid_row": null,
            "max_height": null,
            "align_content": null,
            "visibility": null,
            "align_self": null,
            "height": null,
            "min_height": null,
            "padding": null,
            "grid_auto_rows": null,
            "grid_gap": null,
            "max_width": null,
            "order": null,
            "_view_module_version": "1.2.0",
            "grid_template_areas": null,
            "object_position": null,
            "object_fit": null,
            "grid_auto_columns": null,
            "margin": null,
            "display": null,
            "left": null
          }
        },
        "8f6722bd46e0488794308f49f35c4f11": {
          "model_module": "@jupyter-widgets/controls",
          "model_name": "FloatProgressModel",
          "state": {
            "_view_name": "ProgressView",
            "style": "IPY_MODEL_a6581e54ff7247b2a8e07553dc16e5be",
            "_dom_classes": [],
            "description": "",
            "_model_name": "FloatProgressModel",
            "bar_style": "info",
            "max": 1,
            "_view_module": "@jupyter-widgets/controls",
            "_model_module_version": "1.5.0",
            "value": 1,
            "_view_count": null,
            "_view_module_version": "1.5.0",
            "orientation": "horizontal",
            "min": 0,
            "description_tooltip": null,
            "_model_module": "@jupyter-widgets/controls",
            "layout": "IPY_MODEL_b239257861ab47a787f44874e5198ff2"
          }
        },
        "9eb662c9f40845f5b5d63aebab2486a5": {
          "model_module": "@jupyter-widgets/controls",
          "model_name": "HTMLModel",
          "state": {
            "_view_name": "HTMLView",
            "style": "IPY_MODEL_cf0b56d076f24321940b64cd1e92666e",
            "_dom_classes": [],
            "description": "",
            "_model_name": "HTMLModel",
            "placeholder": "​",
            "_view_module": "@jupyter-widgets/controls",
            "_model_module_version": "1.5.0",
            "value": " 1654784/? [00:19&lt;00:00, 118689.77it/s]",
            "_view_count": null,
            "_view_module_version": "1.5.0",
            "description_tooltip": null,
            "_model_module": "@jupyter-widgets/controls",
            "layout": "IPY_MODEL_ae620b701ef540ba866b48d1a9192ef7"
          }
        },
        "a6581e54ff7247b2a8e07553dc16e5be": {
          "model_module": "@jupyter-widgets/controls",
          "model_name": "ProgressStyleModel",
          "state": {
            "_view_name": "StyleView",
            "_model_name": "ProgressStyleModel",
            "description_width": "initial",
            "_view_module": "@jupyter-widgets/base",
            "_model_module_version": "1.5.0",
            "_view_count": null,
            "_view_module_version": "1.2.0",
            "bar_color": null,
            "_model_module": "@jupyter-widgets/controls"
          }
        },
        "b239257861ab47a787f44874e5198ff2": {
          "model_module": "@jupyter-widgets/base",
          "model_name": "LayoutModel",
          "state": {
            "_view_name": "LayoutView",
            "grid_template_rows": null,
            "right": null,
            "justify_content": null,
            "_view_module": "@jupyter-widgets/base",
            "overflow": null,
            "_model_module_version": "1.2.0",
            "_view_count": null,
            "flex_flow": null,
            "width": null,
            "min_width": null,
            "border": null,
            "align_items": null,
            "bottom": null,
            "_model_module": "@jupyter-widgets/base",
            "top": null,
            "grid_column": null,
            "overflow_y": null,
            "overflow_x": null,
            "grid_auto_flow": null,
            "grid_area": null,
            "grid_template_columns": null,
            "flex": null,
            "_model_name": "LayoutModel",
            "justify_items": null,
            "grid_row": null,
            "max_height": null,
            "align_content": null,
            "visibility": null,
            "align_self": null,
            "height": null,
            "min_height": null,
            "padding": null,
            "grid_auto_rows": null,
            "grid_gap": null,
            "max_width": null,
            "order": null,
            "_view_module_version": "1.2.0",
            "grid_template_areas": null,
            "object_position": null,
            "object_fit": null,
            "grid_auto_columns": null,
            "margin": null,
            "display": null,
            "left": null
          }
        },
        "cf0b56d076f24321940b64cd1e92666e": {
          "model_module": "@jupyter-widgets/controls",
          "model_name": "DescriptionStyleModel",
          "state": {
            "_view_name": "StyleView",
            "_model_name": "DescriptionStyleModel",
            "description_width": "",
            "_view_module": "@jupyter-widgets/base",
            "_model_module_version": "1.5.0",
            "_view_count": null,
            "_view_module_version": "1.2.0",
            "_model_module": "@jupyter-widgets/controls"
          }
        },
        "ae620b701ef540ba866b48d1a9192ef7": {
          "model_module": "@jupyter-widgets/base",
          "model_name": "LayoutModel",
          "state": {
            "_view_name": "LayoutView",
            "grid_template_rows": null,
            "right": null,
            "justify_content": null,
            "_view_module": "@jupyter-widgets/base",
            "overflow": null,
            "_model_module_version": "1.2.0",
            "_view_count": null,
            "flex_flow": null,
            "width": null,
            "min_width": null,
            "border": null,
            "align_items": null,
            "bottom": null,
            "_model_module": "@jupyter-widgets/base",
            "top": null,
            "grid_column": null,
            "overflow_y": null,
            "overflow_x": null,
            "grid_auto_flow": null,
            "grid_area": null,
            "grid_template_columns": null,
            "flex": null,
            "_model_name": "LayoutModel",
            "justify_items": null,
            "grid_row": null,
            "max_height": null,
            "align_content": null,
            "visibility": null,
            "align_self": null,
            "height": null,
            "min_height": null,
            "padding": null,
            "grid_auto_rows": null,
            "grid_gap": null,
            "max_width": null,
            "order": null,
            "_view_module_version": "1.2.0",
            "grid_template_areas": null,
            "object_position": null,
            "object_fit": null,
            "grid_auto_columns": null,
            "margin": null,
            "display": null,
            "left": null
          }
        },
        "32fb16f6e61f41b68c62a3502d797bf3": {
          "model_module": "@jupyter-widgets/controls",
          "model_name": "HBoxModel",
          "state": {
            "_view_name": "HBoxView",
            "_dom_classes": [],
            "_model_name": "HBoxModel",
            "_view_module": "@jupyter-widgets/controls",
            "_model_module_version": "1.5.0",
            "_view_count": null,
            "_view_module_version": "1.5.0",
            "box_style": "",
            "layout": "IPY_MODEL_ccfe8d0b2d204524b0b7604eeb731dec",
            "_model_module": "@jupyter-widgets/controls",
            "children": [
              "IPY_MODEL_d82d54b832b74efc97f5ceb1962667ae",
              "IPY_MODEL_4b53ad5aa75648df947af57168c88b10"
            ]
          }
        },
        "ccfe8d0b2d204524b0b7604eeb731dec": {
          "model_module": "@jupyter-widgets/base",
          "model_name": "LayoutModel",
          "state": {
            "_view_name": "LayoutView",
            "grid_template_rows": null,
            "right": null,
            "justify_content": null,
            "_view_module": "@jupyter-widgets/base",
            "overflow": null,
            "_model_module_version": "1.2.0",
            "_view_count": null,
            "flex_flow": null,
            "width": null,
            "min_width": null,
            "border": null,
            "align_items": null,
            "bottom": null,
            "_model_module": "@jupyter-widgets/base",
            "top": null,
            "grid_column": null,
            "overflow_y": null,
            "overflow_x": null,
            "grid_auto_flow": null,
            "grid_area": null,
            "grid_template_columns": null,
            "flex": null,
            "_model_name": "LayoutModel",
            "justify_items": null,
            "grid_row": null,
            "max_height": null,
            "align_content": null,
            "visibility": null,
            "align_self": null,
            "height": null,
            "min_height": null,
            "padding": null,
            "grid_auto_rows": null,
            "grid_gap": null,
            "max_width": null,
            "order": null,
            "_view_module_version": "1.2.0",
            "grid_template_areas": null,
            "object_position": null,
            "object_fit": null,
            "grid_auto_columns": null,
            "margin": null,
            "display": null,
            "left": null
          }
        },
        "d82d54b832b74efc97f5ceb1962667ae": {
          "model_module": "@jupyter-widgets/controls",
          "model_name": "FloatProgressModel",
          "state": {
            "_view_name": "ProgressView",
            "style": "IPY_MODEL_c081668f00f0466bb11ca7b1784d5c71",
            "_dom_classes": [],
            "description": "",
            "_model_name": "FloatProgressModel",
            "bar_style": "info",
            "max": 1,
            "_view_module": "@jupyter-widgets/controls",
            "_model_module_version": "1.5.0",
            "value": 0,
            "_view_count": null,
            "_view_module_version": "1.5.0",
            "orientation": "horizontal",
            "min": 0,
            "description_tooltip": null,
            "_model_module": "@jupyter-widgets/controls",
            "layout": "IPY_MODEL_5717e13e1de649b0aec4cf22aac5371e"
          }
        },
        "4b53ad5aa75648df947af57168c88b10": {
          "model_module": "@jupyter-widgets/controls",
          "model_name": "HTMLModel",
          "state": {
            "_view_name": "HTMLView",
            "style": "IPY_MODEL_74449afab2ae480688af29fb59e781f3",
            "_dom_classes": [],
            "description": "",
            "_model_name": "HTMLModel",
            "placeholder": "​",
            "_view_module": "@jupyter-widgets/controls",
            "_model_module_version": "1.5.0",
            "value": " 0/? [00:00&lt;?, ?it/s]",
            "_view_count": null,
            "_view_module_version": "1.5.0",
            "description_tooltip": null,
            "_model_module": "@jupyter-widgets/controls",
            "layout": "IPY_MODEL_c170474d0f3f4610b6243f2374164de4"
          }
        },
        "c081668f00f0466bb11ca7b1784d5c71": {
          "model_module": "@jupyter-widgets/controls",
          "model_name": "ProgressStyleModel",
          "state": {
            "_view_name": "StyleView",
            "_model_name": "ProgressStyleModel",
            "description_width": "initial",
            "_view_module": "@jupyter-widgets/base",
            "_model_module_version": "1.5.0",
            "_view_count": null,
            "_view_module_version": "1.2.0",
            "bar_color": null,
            "_model_module": "@jupyter-widgets/controls"
          }
        },
        "5717e13e1de649b0aec4cf22aac5371e": {
          "model_module": "@jupyter-widgets/base",
          "model_name": "LayoutModel",
          "state": {
            "_view_name": "LayoutView",
            "grid_template_rows": null,
            "right": null,
            "justify_content": null,
            "_view_module": "@jupyter-widgets/base",
            "overflow": null,
            "_model_module_version": "1.2.0",
            "_view_count": null,
            "flex_flow": null,
            "width": null,
            "min_width": null,
            "border": null,
            "align_items": null,
            "bottom": null,
            "_model_module": "@jupyter-widgets/base",
            "top": null,
            "grid_column": null,
            "overflow_y": null,
            "overflow_x": null,
            "grid_auto_flow": null,
            "grid_area": null,
            "grid_template_columns": null,
            "flex": null,
            "_model_name": "LayoutModel",
            "justify_items": null,
            "grid_row": null,
            "max_height": null,
            "align_content": null,
            "visibility": null,
            "align_self": null,
            "height": null,
            "min_height": null,
            "padding": null,
            "grid_auto_rows": null,
            "grid_gap": null,
            "max_width": null,
            "order": null,
            "_view_module_version": "1.2.0",
            "grid_template_areas": null,
            "object_position": null,
            "object_fit": null,
            "grid_auto_columns": null,
            "margin": null,
            "display": null,
            "left": null
          }
        },
        "74449afab2ae480688af29fb59e781f3": {
          "model_module": "@jupyter-widgets/controls",
          "model_name": "DescriptionStyleModel",
          "state": {
            "_view_name": "StyleView",
            "_model_name": "DescriptionStyleModel",
            "description_width": "",
            "_view_module": "@jupyter-widgets/base",
            "_model_module_version": "1.5.0",
            "_view_count": null,
            "_view_module_version": "1.2.0",
            "_model_module": "@jupyter-widgets/controls"
          }
        },
        "c170474d0f3f4610b6243f2374164de4": {
          "model_module": "@jupyter-widgets/base",
          "model_name": "LayoutModel",
          "state": {
            "_view_name": "LayoutView",
            "grid_template_rows": null,
            "right": null,
            "justify_content": null,
            "_view_module": "@jupyter-widgets/base",
            "overflow": null,
            "_model_module_version": "1.2.0",
            "_view_count": null,
            "flex_flow": null,
            "width": null,
            "min_width": null,
            "border": null,
            "align_items": null,
            "bottom": null,
            "_model_module": "@jupyter-widgets/base",
            "top": null,
            "grid_column": null,
            "overflow_y": null,
            "overflow_x": null,
            "grid_auto_flow": null,
            "grid_area": null,
            "grid_template_columns": null,
            "flex": null,
            "_model_name": "LayoutModel",
            "justify_items": null,
            "grid_row": null,
            "max_height": null,
            "align_content": null,
            "visibility": null,
            "align_self": null,
            "height": null,
            "min_height": null,
            "padding": null,
            "grid_auto_rows": null,
            "grid_gap": null,
            "max_width": null,
            "order": null,
            "_view_module_version": "1.2.0",
            "grid_template_areas": null,
            "object_position": null,
            "object_fit": null,
            "grid_auto_columns": null,
            "margin": null,
            "display": null,
            "left": null
          }
        }
      }
    }
  },
  "cells": [
    {
      "cell_type": "markdown",
      "metadata": {
        "id": "view-in-github",
        "colab_type": "text"
      },
      "source": [
        "<a href=\"https://colab.research.google.com/github/achyut-srivastava/Projects/blob/master/MNIST_PYTORCH_VISULAIZATION.ipynb\" target=\"_parent\"><img src=\"https://colab.research.google.com/assets/colab-badge.svg\" alt=\"Open In Colab\"/></a>"
      ]
    },
    {
      "cell_type": "markdown",
      "metadata": {
        "id": "pPdwTj3FuOeO",
        "colab_type": "text"
      },
      "source": [
        "# Importing Relevant libraries"
      ]
    },
    {
      "cell_type": "code",
      "metadata": {
        "id": "EwGRDYN0FHut",
        "colab_type": "code",
        "colab": {
          "base_uri": "https://localhost:8080/",
          "height": 70
        },
        "outputId": "a9aa2dcc-7649-4033-98e8-c648d57f0faa"
      },
      "source": [
        "import torch\n",
        "import torch.nn as nn\n",
        "from torchvision import datasets, transforms\n",
        "import numpy as np\n",
        "import matplotlib.pyplot as plt\n",
        "import seaborn as sns\n",
        "import pandas as pd"
      ],
      "execution_count": 4,
      "outputs": [
        {
          "output_type": "stream",
          "text": [
            "/usr/local/lib/python3.6/dist-packages/statsmodels/tools/_testing.py:19: FutureWarning: pandas.util.testing is deprecated. Use the functions in the public API at pandas.testing instead.\n",
            "  import pandas.util.testing as tm\n"
          ],
          "name": "stderr"
        }
      ]
    },
    {
      "cell_type": "markdown",
      "metadata": {
        "id": "qTnniVvcuY_3",
        "colab_type": "text"
      },
      "source": [
        "#Performing transformations on training and tresting datasets\n",
        "\n",
        "since we have only one channel i.e the shape of the image is (N, 1, H ,W)\n",
        "\n",
        "N = No of images\n",
        "\n",
        "1 = Channel\n",
        "\n",
        "H, W = Height and width of images\n",
        "\n",
        "our mean and standard deviation consists of single number of 0.5"
      ]
    },
    {
      "cell_type": "code",
      "metadata": {
        "id": "EhJsINkvrPdf",
        "colab_type": "code",
        "outputId": "69423ba5-3ef3-4469-808e-15ade99906ce",
        "colab": {
          "base_uri": "https://localhost:8080/",
          "height": 350,
          "referenced_widgets": [
            "08f43dfdab464dbf87ecc77500ebe700",
            "964454db1d3b4001908365e37ed54af0",
            "29eeddbb2c264f3eb71e72af507c44cb",
            "698429d02bd8490e93424c643c5a8596",
            "ae277615edcb4d45b4c9e9d93dbdc1a0",
            "4b36919f78ff4473a5938e9b1f5122cc",
            "3efb7f9d7dcc4d51b7625cf3301d6e76",
            "c1072ad3fa6449bcbfbada82bd301447",
            "512681940d0f45c0816f0da7f6f7153d",
            "44956a08ebf84d2293e1e3bd61f9cd21",
            "598d2aa20a5c49f0b6a245a5c1e56639",
            "3e27d160cda847afb7cb67514894eef5",
            "18066317cc18476c88be037e168981e5",
            "10b536ffd97543ee89628988bd9cf554",
            "b16aa83e40584d00b689de14c95654e3",
            "b240b3146b5c418595b92affac151fe6",
            "2f619f92edea4e17b67544682e0d0d88",
            "1ac099e3c2624cf2a5748b271f8fc41f",
            "8f6722bd46e0488794308f49f35c4f11",
            "9eb662c9f40845f5b5d63aebab2486a5",
            "a6581e54ff7247b2a8e07553dc16e5be",
            "b239257861ab47a787f44874e5198ff2",
            "cf0b56d076f24321940b64cd1e92666e",
            "ae620b701ef540ba866b48d1a9192ef7",
            "32fb16f6e61f41b68c62a3502d797bf3",
            "ccfe8d0b2d204524b0b7604eeb731dec",
            "d82d54b832b74efc97f5ceb1962667ae",
            "4b53ad5aa75648df947af57168c88b10",
            "c081668f00f0466bb11ca7b1784d5c71",
            "5717e13e1de649b0aec4cf22aac5371e",
            "74449afab2ae480688af29fb59e781f3",
            "c170474d0f3f4610b6243f2374164de4"
          ]
        }
      },
      "source": [
        "transform = transforms.Compose([\n",
        "                               transforms.ToTensor(),\n",
        "                               transforms.Normalize((0.5,),(0.5,))\n",
        "])\n",
        "training_datasets = datasets.MNIST('./root', train=True, download=True,transform=transform)\n",
        "testing_datasets = datasets.MNIST('./root', train=False, transform=transform)"
      ],
      "execution_count": 5,
      "outputs": [
        {
          "output_type": "stream",
          "text": [
            "Downloading http://yann.lecun.com/exdb/mnist/train-images-idx3-ubyte.gz to ./root/MNIST/raw/train-images-idx3-ubyte.gz\n"
          ],
          "name": "stdout"
        },
        {
          "output_type": "display_data",
          "data": {
            "application/vnd.jupyter.widget-view+json": {
              "model_id": "08f43dfdab464dbf87ecc77500ebe700",
              "version_minor": 0,
              "version_major": 2
            },
            "text/plain": [
              "HBox(children=(FloatProgress(value=1.0, bar_style='info', max=1.0), HTML(value='')))"
            ]
          },
          "metadata": {
            "tags": []
          }
        },
        {
          "output_type": "stream",
          "text": [
            "Extracting ./root/MNIST/raw/train-images-idx3-ubyte.gz to ./root/MNIST/raw\n",
            "Downloading http://yann.lecun.com/exdb/mnist/train-labels-idx1-ubyte.gz to ./root/MNIST/raw/train-labels-idx1-ubyte.gz\n"
          ],
          "name": "stdout"
        },
        {
          "output_type": "display_data",
          "data": {
            "application/vnd.jupyter.widget-view+json": {
              "model_id": "512681940d0f45c0816f0da7f6f7153d",
              "version_minor": 0,
              "version_major": 2
            },
            "text/plain": [
              "HBox(children=(FloatProgress(value=1.0, bar_style='info', max=1.0), HTML(value='')))"
            ]
          },
          "metadata": {
            "tags": []
          }
        },
        {
          "output_type": "stream",
          "text": [
            "Extracting ./root/MNIST/raw/train-labels-idx1-ubyte.gz to ./root/MNIST/raw\n",
            "Downloading http://yann.lecun.com/exdb/mnist/t10k-images-idx3-ubyte.gz to ./root/MNIST/raw/t10k-images-idx3-ubyte.gz\n"
          ],
          "name": "stdout"
        },
        {
          "output_type": "display_data",
          "data": {
            "application/vnd.jupyter.widget-view+json": {
              "model_id": "2f619f92edea4e17b67544682e0d0d88",
              "version_minor": 0,
              "version_major": 2
            },
            "text/plain": [
              "HBox(children=(FloatProgress(value=1.0, bar_style='info', max=1.0), HTML(value='')))"
            ]
          },
          "metadata": {
            "tags": []
          }
        },
        {
          "output_type": "stream",
          "text": [
            "Extracting ./root/MNIST/raw/t10k-images-idx3-ubyte.gz to ./root/MNIST/raw\n",
            "Downloading http://yann.lecun.com/exdb/mnist/t10k-labels-idx1-ubyte.gz to ./root/MNIST/raw/t10k-labels-idx1-ubyte.gz\n"
          ],
          "name": "stdout"
        },
        {
          "output_type": "display_data",
          "data": {
            "application/vnd.jupyter.widget-view+json": {
              "model_id": "32fb16f6e61f41b68c62a3502d797bf3",
              "version_minor": 0,
              "version_major": 2
            },
            "text/plain": [
              "HBox(children=(FloatProgress(value=1.0, bar_style='info', max=1.0), HTML(value='')))"
            ]
          },
          "metadata": {
            "tags": []
          }
        },
        {
          "output_type": "stream",
          "text": [
            "Extracting ./root/MNIST/raw/t10k-labels-idx1-ubyte.gz to ./root/MNIST/raw\n",
            "Processing...\n",
            "Done!\n"
          ],
          "name": "stdout"
        },
        {
          "output_type": "stream",
          "text": [
            "/pytorch/torch/csrc/utils/tensor_numpy.cpp:141: UserWarning: The given NumPy array is not writeable, and PyTorch does not support non-writeable tensors. This means you can write to the underlying (supposedly non-writeable) NumPy array using the tensor. You may want to copy the array to protect its data or make it writeable before converting it to a tensor. This type of warning will be suppressed for the rest of this program.\n"
          ],
          "name": "stderr"
        }
      ]
    },
    {
      "cell_type": "markdown",
      "metadata": {
        "id": "MEEeiKRuvECT",
        "colab_type": "text"
      },
      "source": [
        "#Splitting datasets:\n",
        "\n",
        "split_ratio = amount of data you want as your validation data\n",
        "\n",
        "Using torch.utils.data.random_split for splitting the data randomly"
      ]
    },
    {
      "cell_type": "code",
      "metadata": {
        "id": "QHEZkyqprQHG",
        "colab_type": "code",
        "outputId": "b46e0526-a0df-4350-c984-3a428fd5b559",
        "colab": {
          "base_uri": "https://localhost:8080/",
          "height": 34
        }
      },
      "source": [
        "split_ratio = 0.2\n",
        "n_valid = int(len(training_datasets)*split_ratio)\n",
        "n_train = len(training_datasets) - n_valid   \n",
        "x_train, x_valid = torch.utils.data.random_split(training_datasets, (n_train, n_valid))\n",
        "len(x_train), len(x_valid)"
      ],
      "execution_count": 6,
      "outputs": [
        {
          "output_type": "execute_result",
          "data": {
            "text/plain": [
              "(48000, 12000)"
            ]
          },
          "metadata": {
            "tags": []
          },
          "execution_count": 6
        }
      ]
    },
    {
      "cell_type": "markdown",
      "metadata": {
        "id": "tuOS9y-uvivZ",
        "colab_type": "text"
      },
      "source": [
        "#Determing batch size and assigning data loader"
      ]
    },
    {
      "cell_type": "code",
      "metadata": {
        "id": "vgdmPRMlrTBu",
        "colab_type": "code",
        "colab": {}
      },
      "source": [
        "batch_size = 100\n",
        "train_loader = torch.utils.data.DataLoader(dataset=x_train, batch_size=batch_size, shuffle = True)\n",
        "valid_loader = torch.utils.data.DataLoader(dataset=x_valid, batch_size=batch_size, shuffle = False)"
      ],
      "execution_count": 0,
      "outputs": []
    },
    {
      "cell_type": "markdown",
      "metadata": {
        "id": "kHUBVMZ1wo4S",
        "colab_type": "text"
      },
      "source": [
        "# Activation gpu or cpu based on avaliability"
      ]
    },
    {
      "cell_type": "code",
      "metadata": {
        "id": "yAnbIyGTrVvE",
        "colab_type": "code",
        "colab": {}
      },
      "source": [
        "device = torch.device(\"cuda:0\" if torch.cuda.is_available() else \"cpu\")"
      ],
      "execution_count": 0,
      "outputs": []
    },
    {
      "cell_type": "markdown",
      "metadata": {
        "id": "s3EJgumcwvoE",
        "colab_type": "text"
      },
      "source": [
        "# Visulaizing the split datasets \n",
        "\n",
        "Confirming equal splits among the classes in other words the datasets should be a balance class"
      ]
    },
    {
      "cell_type": "code",
      "metadata": {
        "id": "cniy72CmraHf",
        "colab_type": "code",
        "colab": {}
      },
      "source": [
        "def bar_graph(loader):\n",
        "    emp = torch.zeros(10, dtype=torch.int16)     \n",
        "    for images, labels in valid_loader:\n",
        "        labels = labels.to(device)\n",
        "        for l in labels:\n",
        "            emp[l] += 1\n",
        "    return emp"
      ],
      "execution_count": 0,
      "outputs": []
    },
    {
      "cell_type": "code",
      "metadata": {
        "id": "JMmDG4WQrdAN",
        "colab_type": "code",
        "colab": {}
      },
      "source": [
        "num_train = bar_graph(train_loader)\n",
        "num_valid = bar_graph(valid_loader)"
      ],
      "execution_count": 0,
      "outputs": []
    },
    {
      "cell_type": "code",
      "metadata": {
        "id": "A_G_fqLLre4E",
        "colab_type": "code",
        "outputId": "22390afe-5427-4ef2-ca27-511dd37d2760",
        "colab": {
          "base_uri": "https://localhost:8080/",
          "height": 336
        }
      },
      "source": [
        "plt.rcParams['figure.figsize'] = [15,5]\n",
        "fig, (ax1, ax2) = plt.subplots(1,2, sharex=True)\n",
        "ax1.bar(range(10), num_train)\n",
        "ax1.set_title('Train')\n",
        "ax2.bar(range(10), num_valid)\n",
        "ax2.set_title('Test')\n",
        "plt.show()"
      ],
      "execution_count": 21,
      "outputs": [
        {
          "output_type": "display_data",
          "data": {
            "image/png": "[encoded data removed]",
            "text/plain": [
              "<Figure size 1080x360 with 2 Axes>"
            ]
          },
          "metadata": {
            "tags": [],
            "needs_background": "light"
          }
        }
      ]
    },
    {
      "cell_type": "markdown",
      "metadata": {
        "id": "Nlc-V4I6DNvx",
        "colab_type": "text"
      },
      "source": [
        "# Creating a model "
      ]
    },
    {
      "cell_type": "code",
      "metadata": {
        "id": "kXkCM5MLqAMf",
        "colab_type": "code",
        "colab": {}
      },
      "source": [
        "class Model(nn.Module):\n",
        "    def __init__(self):\n",
        "        super().__init__()\n",
        "        self.features = nn.Sequential(\n",
        "            nn.Conv2d(1, 16, 5, 1),\n",
        "            nn.LeakyReLU(negative_slope=0.01 ,inplace=True),\n",
        "            nn.MaxPool2d(2),            \n",
        "            nn.Conv2d(16, 32, 3, 1),\n",
        "            nn.LeakyReLU(negative_slope=0.01 ,inplace=True),\n",
        "            nn.MaxPool2d(2),\n",
        "            nn.Conv2d(32, 64, 3, 1),\n",
        "            nn.LeakyReLU(negative_slope=0.01 ,inplace=True),\n",
        "        )\n",
        "        self.classifier = nn.Sequential(\n",
        "            nn.Linear(3*3*64, 500),\n",
        "            nn.LeakyReLU(negative_slope=0.01 ,inplace=True),\n",
        "            nn.Dropout(0.3),\n",
        "            nn.Linear(500, 128),\n",
        "            nn.LeakyReLU(negative_slope=0.01 ,inplace=True),\n",
        "            nn.Dropout(0.3),\n",
        "            nn.Linear(128,10),\n",
        "        )\n",
        "    def forward(self, x):\n",
        "        x = self.features(x)\n",
        "        x = x.view(-1, 3*3*64)\n",
        "        x = self.classifier(x)\n",
        "        return x"
      ],
      "execution_count": 0,
      "outputs": []
    },
    {
      "cell_type": "code",
      "metadata": {
        "id": "8v5etdbormYJ",
        "colab_type": "code",
        "outputId": "15730bfd-8272-47b9-e9f6-6704e696ed98",
        "colab": {
          "base_uri": "https://localhost:8080/",
          "height": 370
        }
      },
      "source": [
        "model = Model().to(device)\n",
        "model"
      ],
      "execution_count": 10,
      "outputs": [
        {
          "output_type": "execute_result",
          "data": {
            "text/plain": [
              "Model(\n",
              "  (features): Sequential(\n",
              "    (0): Conv2d(1, 16, kernel_size=(5, 5), stride=(1, 1))\n",
              "    (1): LeakyReLU(negative_slope=0.01, inplace=True)\n",
              "    (2): MaxPool2d(kernel_size=2, stride=2, padding=0, dilation=1, ceil_mode=False)\n",
              "    (3): Conv2d(16, 32, kernel_size=(3, 3), stride=(1, 1))\n",
              "    (4): LeakyReLU(negative_slope=0.01, inplace=True)\n",
              "    (5): MaxPool2d(kernel_size=2, stride=2, padding=0, dilation=1, ceil_mode=False)\n",
              "    (6): Conv2d(32, 64, kernel_size=(3, 3), stride=(1, 1))\n",
              "    (7): LeakyReLU(negative_slope=0.01, inplace=True)\n",
              "  )\n",
              "  (classifier): Sequential(\n",
              "    (0): Linear(in_features=576, out_features=500, bias=True)\n",
              "    (1): LeakyReLU(negative_slope=0.01, inplace=True)\n",
              "    (2): Dropout(p=0.3, inplace=False)\n",
              "    (3): Linear(in_features=500, out_features=128, bias=True)\n",
              "    (4): LeakyReLU(negative_slope=0.01, inplace=True)\n",
              "    (5): Dropout(p=0.3, inplace=False)\n",
              "    (6): Linear(in_features=128, out_features=10, bias=True)\n",
              "  )\n",
              ")"
            ]
          },
          "metadata": {
            "tags": []
          },
          "execution_count": 10
        }
      ]
    },
    {
      "cell_type": "markdown",
      "metadata": {
        "id": "pi_0pUj_DRt1",
        "colab_type": "text"
      },
      "source": [
        "# Visualizing sample images"
      ]
    },
    {
      "cell_type": "code",
      "metadata": {
        "id": "yuMufS-oryQz",
        "colab_type": "code",
        "colab": {}
      },
      "source": [
        "def img_converter(images):\n",
        "  image = images.clone().detach().numpy() \n",
        "  image = image.transpose(1,2,0).squeeze()\n",
        "  return image"
      ],
      "execution_count": 0,
      "outputs": []
    },
    {
      "cell_type": "code",
      "metadata": {
        "id": "18UBJOrLropb",
        "colab_type": "code",
        "outputId": "dbba6421-c683-4164-9b8f-a32e55958dcc",
        "colab": {
          "base_uri": "https://localhost:8080/",
          "height": 482
        }
      },
      "source": [
        "images, labels = next(iter(train_loader))\n",
        "fig = plt.figure(figsize = (10, 8))\n",
        "for i in range(16):\n",
        "    ax = fig.add_subplot(4, 4, i+1)\n",
        "    plt.imshow(img_converter(images[i]))\n",
        "    ax.set_title(labels[i].item())\n",
        "    plt.axis('off')"
      ],
      "execution_count": 18,
      "outputs": [
        {
          "output_type": "display_data",
          "data": {
            "image/png": "[encoded data removed]",
            "text/plain": [
              "<Figure size 720x576 with 16 Axes>"
            ]
          },
          "metadata": {
            "tags": [],
            "needs_background": "light"
          }
        }
      ]
    },
    {
      "cell_type": "code",
      "metadata": {
        "id": "rEha1DRwu8-o",
        "colab_type": "code",
        "colab": {}
      },
      "source": [
        "criterion = nn.CrossEntropyLoss()\n",
        "optimizer = torch.optim.Adam(model.parameters(), lr=1e-3)"
      ],
      "execution_count": 0,
      "outputs": []
    },
    {
      "cell_type": "markdown",
      "metadata": {
        "id": "Bdr8U_LADdmB",
        "colab_type": "text"
      },
      "source": [
        "# Training the model"
      ]
    },
    {
      "cell_type": "code",
      "metadata": {
        "id": "wrl3PGvxrq31",
        "colab_type": "code",
        "outputId": "bf739113-0caa-4ceb-c231-5f415238b5a1",
        "colab": {
          "base_uri": "https://localhost:8080/",
          "height": 185
        }
      },
      "source": [
        "epochs = 10\n",
        "\n",
        "train_loss=[]\n",
        "valid_loss=[]\n",
        "\n",
        "train_acc=[]\n",
        "valid_acc=[]\n",
        "\n",
        "for e in range(epochs):\n",
        "    tl = 0\n",
        "    vl = 0\n",
        "    ta = 0\n",
        "    va = 0\n",
        "    for images, labels in train_loader:\n",
        "        images = images.to(device)\n",
        "        labels = labels.to(device)\n",
        "        \n",
        "        optimizer.zero_grad()\n",
        "        train_pred = model(images)\n",
        "        loss = criterion(train_pred, labels)\n",
        "        loss.backward()\n",
        "        optimizer.step()\n",
        "        \n",
        "        tl += loss\n",
        "        _, train_label = torch.max(train_pred, 1)\n",
        "        ta += torch.sum(train_label == labels)\n",
        "    \n",
        "    with torch.no_grad(): \n",
        "        for val_images, val_labels in valid_loader:\n",
        "            val_images = val_images.to(device)\n",
        "            val_labels = val_labels.to(device)\n",
        "\n",
        "\n",
        "            val_pred = model(val_images)\n",
        "            loss = criterion(val_pred, val_labels)\n",
        "\n",
        "            vl += loss\n",
        "            _, val_label = torch.max(val_pred, 1)\n",
        "            va += torch.sum(val_label == val_labels) \n",
        "    \n",
        "    train_loss.append(tl/len(x_train))\n",
        "    train_acc.append(ta.float()/len(x_train))\n",
        "    valid_loss.append(vl/len(x_valid))\n",
        "    valid_acc.append(va.float()/len(x_valid))\n",
        "    \n",
        "    print(f\"Epochs: {e+1} loss: {tl/len(x_train)} accuracy: {ta.float()/len(x_train)} val_loss: {vl/len(x_valid)} val_acc: {va.float()/len(x_valid)}\")"
      ],
      "execution_count": 27,
      "outputs": [
        {
          "output_type": "stream",
          "text": [
            "Epochs: 1 loss: 0.0027307462878525257 accuracy: 0.9110833406448364 val_loss: 0.0008318998734466732 val_acc: 0.9749999642372131\n",
            "Epochs: 2 loss: 0.0006850372301414609 accuracy: 0.9794583320617676 val_loss: 0.0005342090735211968 val_acc: 0.984916627407074\n",
            "Epochs: 3 loss: 0.0004909644485451281 accuracy: 0.984916627407074 val_loss: 0.0005956473178230226 val_acc: 0.9822499752044678\n",
            "Epochs: 4 loss: 0.0003739404783118516 accuracy: 0.9888333082199097 val_loss: 0.0004117130010854453 val_acc: 0.9873332977294922\n",
            "Epochs: 5 loss: 0.00031954629230313003 accuracy: 0.9905416369438171 val_loss: 0.0003797867684625089 val_acc: 0.9892500042915344\n",
            "Epochs: 6 loss: 0.0002579119463916868 accuracy: 0.9918124675750732 val_loss: 0.0005168666248209774 val_acc: 0.9854999780654907\n",
            "Epochs: 7 loss: 0.00025653018383309245 accuracy: 0.9924166798591614 val_loss: 0.0004559459921438247 val_acc: 0.9887499809265137\n",
            "Epochs: 8 loss: 0.00019360454462002963 accuracy: 0.9936041831970215 val_loss: 0.00038552211481146514 val_acc: 0.9901666641235352\n",
            "Epochs: 9 loss: 0.0001924194657476619 accuracy: 0.9945833086967468 val_loss: 0.0004966738633811474 val_acc: 0.9871666431427002\n",
            "Epochs: 10 loss: 0.00016204405983444303 accuracy: 0.9953333139419556 val_loss: 0.0004262186121195555 val_acc: 0.9901666641235352\n"
          ],
          "name": "stdout"
        }
      ]
    },
    {
      "cell_type": "markdown",
      "metadata": {
        "id": "3mrReHkKDiMj",
        "colab_type": "text"
      },
      "source": [
        "#Loss and accuracy graphs"
      ]
    },
    {
      "cell_type": "code",
      "metadata": {
        "id": "l3Hau6P2tlOb",
        "colab_type": "code",
        "outputId": "8649fbad-7578-4391-9667-32b096a534e5",
        "colab": {
          "base_uri": "https://localhost:8080/",
          "height": 320
        }
      },
      "source": [
        "fig = plt.figure(figsize=(20,5))\n",
        "fig.add_subplot(121)\n",
        "plt.plot(range(epochs), train_loss, label = 'Training_loss')\n",
        "plt.plot(range(epochs), valid_loss, label ='Validation loss')\n",
        "plt.legend()\n",
        "fig.add_subplot(122)\n",
        "plt.plot(range(epochs), train_acc, label='Training Accuracy')\n",
        "plt.plot(range(epochs), valid_acc, label='Validation Accuracy')\n",
        "plt.legend()\n",
        "plt.show()"
      ],
      "execution_count": 28,
      "outputs": [
        {
          "output_type": "display_data",
          "data": {
            "image/png": "[encoded data removed]",
            "text/plain": [
              "<Figure size 1440x360 with 2 Axes>"
            ]
          },
          "metadata": {
            "tags": [],
            "needs_background": "light"
          }
        }
      ]
    },
    {
      "cell_type": "markdown",
      "metadata": {
        "id": "HrSOvephDn-l",
        "colab_type": "text"
      },
      "source": [
        ""
      ]
    },
    {
      "cell_type": "markdown",
      "metadata": {
        "id": "ApVF3VqgDrZl",
        "colab_type": "text"
      },
      "source": [
        "#Accuracy for test set"
      ]
    },
    {
      "cell_type": "code",
      "metadata": {
        "id": "Z4CaRDvgsBqO",
        "colab_type": "code",
        "outputId": "b05be2d8-dec2-417d-e2e9-23a2e4b17c4f",
        "colab": {
          "base_uri": "https://localhost:8080/",
          "height": 34
        }
      },
      "source": [
        "test_loader = torch.utils.data.DataLoader(dataset=testing_datasets, batch_size=batch_size, shuffle = False)\n",
        "tel = 0\n",
        "tea = 0\n",
        "cm_label = []\n",
        "cm_pred = []\n",
        "with torch.no_grad(): \n",
        "  model.eval()\n",
        "  for t_images, t_labels in test_loader:\n",
        "    t_images = t_images.to(device)\n",
        "    t_labels = t_labels.to(device)\n",
        "\n",
        "    t_pred = model(t_images)\n",
        "    loss = criterion(t_pred, t_labels)\n",
        "\n",
        "    tel += loss\n",
        "    _, t_label = torch.max(t_pred, 1)\n",
        "    tea += torch.sum(t_label == t_labels) \n",
        "\n",
        "    cm_label.extend(t_labels)\n",
        "    cm_pred.extend(t_label)\n",
        "print(f\"Testing accuracy: {tea.float()/len(testing_datasets)}  Testing loss:{tel/len(testing_datasets)}\")"
      ],
      "execution_count": 14,
      "outputs": [
        {
          "output_type": "stream",
          "text": [
            "Testing accuracy: 0.9914000034332275  Testing loss:0.0003289289597887546\n"
          ],
          "name": "stdout"
        }
      ]
    },
    {
      "cell_type": "code",
      "metadata": {
        "id": "CuSa4awSs_qU",
        "colab_type": "code",
        "colab": {}
      },
      "source": [
        "torch.save(model.state_dict(), './model_weight.pth')"
      ],
      "execution_count": 0,
      "outputs": []
    },
    {
      "cell_type": "markdown",
      "metadata": {
        "id": "1jr_je1tDvLz",
        "colab_type": "text"
      },
      "source": [
        "#plotting confusion matrix useand sklearn and saeborn"
      ]
    },
    {
      "cell_type": "code",
      "metadata": {
        "id": "CQhk-Q2wtrVR",
        "colab_type": "code",
        "colab": {
          "base_uri": "https://localhost:8080/",
          "height": 370
        },
        "outputId": "72e9ce83-9b96-423e-c6aa-a2004fd2ae2f"
      },
      "source": [
        "model = Model()\n",
        "model.load_state_dict(torch.load('./model_weight.pth', map_location=device))\n",
        "model.to(device)"
      ],
      "execution_count": 11,
      "outputs": [
        {
          "output_type": "execute_result",
          "data": {
            "text/plain": [
              "Model(\n",
              "  (features): Sequential(\n",
              "    (0): Conv2d(1, 16, kernel_size=(5, 5), stride=(1, 1))\n",
              "    (1): LeakyReLU(negative_slope=0.01, inplace=True)\n",
              "    (2): MaxPool2d(kernel_size=2, stride=2, padding=0, dilation=1, ceil_mode=False)\n",
              "    (3): Conv2d(16, 32, kernel_size=(3, 3), stride=(1, 1))\n",
              "    (4): LeakyReLU(negative_slope=0.01, inplace=True)\n",
              "    (5): MaxPool2d(kernel_size=2, stride=2, padding=0, dilation=1, ceil_mode=False)\n",
              "    (6): Conv2d(32, 64, kernel_size=(3, 3), stride=(1, 1))\n",
              "    (7): LeakyReLU(negative_slope=0.01, inplace=True)\n",
              "  )\n",
              "  (classifier): Sequential(\n",
              "    (0): Linear(in_features=576, out_features=500, bias=True)\n",
              "    (1): LeakyReLU(negative_slope=0.01, inplace=True)\n",
              "    (2): Dropout(p=0.3, inplace=False)\n",
              "    (3): Linear(in_features=500, out_features=128, bias=True)\n",
              "    (4): LeakyReLU(negative_slope=0.01, inplace=True)\n",
              "    (5): Dropout(p=0.3, inplace=False)\n",
              "    (6): Linear(in_features=128, out_features=10, bias=True)\n",
              "  )\n",
              ")"
            ]
          },
          "metadata": {
            "tags": []
          },
          "execution_count": 11
        }
      ]
    },
    {
      "cell_type": "code",
      "metadata": {
        "id": "mn0qKu6cyLPX",
        "colab_type": "code",
        "colab": {}
      },
      "source": [
        "from sklearn.metrics import confusion_matrix\n",
        "cm_label = torch.tensor(cm_label)\n",
        "cm_pred = torch.tensor(cm_pred)\n",
        "data = confusion_matrix(cm_label, cm_pred)"
      ],
      "execution_count": 0,
      "outputs": []
    },
    {
      "cell_type": "code",
      "metadata": {
        "id": "Kl4Q4ONTwIDH",
        "colab_type": "code",
        "outputId": "20b357f4-60ce-470d-beeb-17e42729b0d6",
        "colab": {
          "base_uri": "https://localhost:8080/",
          "height": 433
        }
      },
      "source": [
        "con_mat = pd.DataFrame(data, index = range(10), columns = range(10), dtype=np.int64)\n",
        "plt.figure(figsize = (15,7))\n",
        "sns.set(font_scale=0.8)\n",
        "sns.heatmap(con_mat, annot=True,  annot_kws={\"size\": 12}, fmt='g', vmax=1200, cbar = True, square= True)\n",
        "plt.show()"
      ],
      "execution_count": 34,
      "outputs": [
        {
          "output_type": "display_data",
          "data": {
            "image/png": "[encoded data removed]",
            "text/plain": [
              "<Figure size 1080x504 with 2 Axes>"
            ]
          },
          "metadata": {
            "tags": [],
            "needs_background": "light"
          }
        }
      ]
    },
    {
      "cell_type": "markdown",
      "metadata": {
        "id": "YbeTrud1D3nP",
        "colab_type": "text"
      },
      "source": [
        "#Visualizing Filters"
      ]
    },
    {
      "cell_type": "code",
      "metadata": {
        "id": "9TB12Oy3M-H8",
        "colab_type": "code",
        "colab": {}
      },
      "source": [
        "import matplotlib.gridspec as gridspec\n",
        "def visualization(model, layer_no):\n",
        "  kernel = model.features[layer_no].weight\n",
        "  print(f\"Kernel shape: \",kernel.shape)\n",
        "  image = kernel.cpu().clone().detach().numpy()\n",
        "  image = torch.tensor(image)\n",
        "  fig = plt.figure(constrained_layout=False, figsize=(30,30))\n",
        "  spec = fig.add_gridspec(nrows=image.shape[0], ncols=image.shape[1], left= 0.0, right = 0.3,  wspace=0.05, hspace=0.05)\n",
        "  counter_inner = 0\n",
        "  counter_outer = 0\n",
        "  for out_img in image:\n",
        "    counter_inner = 0\n",
        "    for in_img in out_img:\n",
        "      fig.add_subplot(spec[counter_outer, counter_inner])\n",
        "      plt.imshow(in_img, cmap='gray')\n",
        "      plt.axis('off')\n",
        "      counter_inner += 1\n",
        "    counter_outer += 1"
      ],
      "execution_count": 0,
      "outputs": []
    },
    {
      "cell_type": "code",
      "metadata": {
        "id": "S_fw3Np3TnFk",
        "colab_type": "code",
        "outputId": "1e3ae0f7-a801-4335-9a60-07fadf51f0ae",
        "colab": {
          "base_uri": "https://localhost:8080/",
          "height": 1000
        }
      },
      "source": [
        "visualization(model, 0)"
      ],
      "execution_count": 36,
      "outputs": [
        {
          "output_type": "stream",
          "text": [
            "Kernel shape:  torch.Size([16, 1, 5, 5])\n"
          ],
          "name": "stdout"
        },
        {
          "output_type": "display_data",
          "data": {
            "image/png": "[encoded data removed]",
            "text/plain": [
              "<Figure size 2160x2160 with 16 Axes>"
            ]
          },
          "metadata": {
            "tags": []
          }
        }
      ]
    },
    {
      "cell_type": "markdown",
      "metadata": {
        "id": "WzlMTM-aD7uK",
        "colab_type": "text"
      },
      "source": [
        "# Taking a single image from datasets"
      ]
    },
    {
      "cell_type": "code",
      "metadata": {
        "id": "9r5chhB1Y6ZY",
        "colab_type": "code",
        "outputId": "7a82d8c4-1fbf-45d2-b5f5-88c85e784780",
        "colab": {
          "base_uri": "https://localhost:8080/",
          "height": 265
        }
      },
      "source": [
        "images, labels = next(iter(train_loader))\n",
        "img1 = images[23]\n",
        "test_image = img_converter(img1)\n",
        "plt.imshow(img_converter(img1), cmap='gray')\n",
        "plt.grid(False)\n",
        "plt.show()\n",
        "img1 = img1.unsqueeze(0)\n",
        "img1 = img1.to(device)"
      ],
      "execution_count": 38,
      "outputs": [
        {
          "output_type": "display_data",
          "data": {
            "image/png": "[encoded data removed]",
            "text/plain": [
              "<Figure size 432x288 with 1 Axes>"
            ]
          },
          "metadata": {
            "tags": [],
            "needs_background": "light"
          }
        }
      ]
    },
    {
      "cell_type": "markdown",
      "metadata": {
        "id": "jkGStAU2D_w2",
        "colab_type": "text"
      },
      "source": [
        "#Hooking a layer in model"
      ]
    },
    {
      "cell_type": "code",
      "metadata": {
        "id": "43ZV0KAtmFuj",
        "colab_type": "code",
        "colab": {
          "base_uri": "https://localhost:8080/",
          "height": 34
        },
        "outputId": "c918ee10-254e-4f32-9141-05ce30c5fedc"
      },
      "source": [
        "test_image.shape"
      ],
      "execution_count": 41,
      "outputs": [
        {
          "output_type": "execute_result",
          "data": {
            "text/plain": [
              "(28, 28)"
            ]
          },
          "metadata": {
            "tags": []
          },
          "execution_count": 41
        }
      ]
    },
    {
      "cell_type": "code",
      "metadata": {
        "id": "E07ImkYvjPs-",
        "colab_type": "code",
        "colab": {}
      },
      "source": [
        "class get_activation_layer():\n",
        "  def __init__(self, module, layer_no):\n",
        "    self.hook = module.features[layer_no].register_forward_hook(self.hook_fn)\n",
        "    self.layer_num = layer_no\n",
        "  def hook_fn(self, module, input, output):\n",
        "    self.layer = self.layer_num\n",
        "    self.features = output.clone().detach().requires_grad_()\n",
        "    self.actual_features = output\n",
        "  def close(self):\n",
        "    self.hook.remove()"
      ],
      "execution_count": 0,
      "outputs": []
    },
    {
      "cell_type": "markdown",
      "metadata": {
        "id": "3ZcKi6v8EIiw",
        "colab_type": "text"
      },
      "source": [
        "# Visualizing CNN output of the hooked layer"
      ]
    },
    {
      "cell_type": "code",
      "metadata": {
        "id": "LiSfplmB84Rj",
        "colab_type": "code",
        "colab": {}
      },
      "source": [
        "def hook_map_visualization(active_layer):\n",
        "  image = active_layer.features.clone().detach().cpu().numpy().squeeze()\n",
        "  im = image.shape[0]\n",
        "  print(f\"Shape at layer {active_layer.layer} is {image.shape}\")\n",
        "  fig = plt.figure(figsize=(10,10))\n",
        "  sqr = int(np.sqrt(im))\n",
        "  if sqr%2 != 0:\n",
        "    sqr +=1\n",
        "  gs = fig.add_gridspec(nrows = sqr, ncols = sqr, left=0.35, right = 1.1, wspace = 0.0, hspace = 0.0 )\n",
        "  c_in = 0\n",
        "  c_out = 0\n",
        "  for out_img in image:\n",
        "      if c_in == sqr:\n",
        "        c_out += 1\n",
        "        c_in = 0\n",
        "      fig.add_subplot(gs[c_out, c_in])\n",
        "      plt.imshow(out_img, cmap = 'gray')      \n",
        "      plt.grid('off')\n",
        "      plt.axis('off')\n",
        "      c_in += 1"
      ],
      "execution_count": 0,
      "outputs": []
    },
    {
      "cell_type": "markdown",
      "metadata": {
        "id": "RYGjGRbJEOCe",
        "colab_type": "text"
      },
      "source": [
        "# Visualizing mean activation of each filters"
      ]
    },
    {
      "cell_type": "code",
      "metadata": {
        "id": "gwur1g793gQk",
        "colab_type": "code",
        "colab": {}
      },
      "source": [
        "def mean_act_visualization(mean_active):\n",
        "  mean_plot = []\n",
        "  no_filter = mean_active.actual_features.shape[1]\n",
        "  for i in range(no_filter):\n",
        "    mean_plot.append(mean_active.actual_features[0][i].mean())\n",
        "  plt.bar(range(1,no_filter+1), torch.tensor(mean_plot), color=\"orange\")\n",
        "  plt.xticks(range(1,no_filter+1))\n",
        "  plt.grid(False)  \n",
        "  plt.yticks([])\n",
        "  plt.title(\"Layer :\"+str(mean_active.layer)+ str(\" \")+str(mean_active.actual_features.shape))\n",
        "  plt.show()\n",
        "  _, max_mean = torch.max(torch.tensor(mean_plot).unsqueeze(0), 1)\n",
        "  return max_mean.item()"
      ],
      "execution_count": 0,
      "outputs": []
    },
    {
      "cell_type": "markdown",
      "metadata": {
        "id": "p5hzJui3EuoE",
        "colab_type": "text"
      },
      "source": [
        "# Using layer number to acces a prticular layer in model\n",
        "\n",
        "Passing the single image taken above in the model"
      ]
    },
    {
      "cell_type": "code",
      "metadata": {
        "id": "oVG-F14Q653T",
        "colab_type": "code",
        "colab": {}
      },
      "source": [
        "layer = 1\n",
        "activations = get_activation_layer(model, layer)\n",
        "out = model(img1)"
      ],
      "execution_count": 0,
      "outputs": []
    },
    {
      "cell_type": "code",
      "metadata": {
        "id": "YJ1L4pb3wUj9",
        "colab_type": "code",
        "colab": {
          "base_uri": "https://localhost:8080/",
          "height": 34
        },
        "outputId": "5eb98160-e74b-407b-c63c-933767cc13e6"
      },
      "source": [
        "activations.features.shape"
      ],
      "execution_count": 72,
      "outputs": [
        {
          "output_type": "execute_result",
          "data": {
            "text/plain": [
              "torch.Size([1, 16, 24, 24])"
            ]
          },
          "metadata": {
            "tags": []
          },
          "execution_count": 72
        }
      ]
    },
    {
      "cell_type": "code",
      "metadata": {
        "id": "4J3nircSuRIT",
        "colab_type": "code",
        "outputId": "e36456fa-7fdd-4613-8444-792d7d53f746",
        "colab": {
          "base_uri": "https://localhost:8080/",
          "height": 591
        }
      },
      "source": [
        "hook_map_visualization(activations)"
      ],
      "execution_count": 73,
      "outputs": [
        {
          "output_type": "stream",
          "text": [
            "Shape at layer 1 is (16, 24, 24)\n"
          ],
          "name": "stdout"
        },
        {
          "output_type": "display_data",
          "data": {
            "image/png": "[encoded data removed]",
            "text/plain": [
              "<Figure size 720x720 with 16 Axes>"
            ]
          },
          "metadata": {
            "tags": [],
            "needs_background": "light"
          }
        }
      ]
    },
    {
      "cell_type": "code",
      "metadata": {
        "id": "iB2Rn0Ui44E6",
        "colab_type": "code",
        "outputId": "7d474b52-a9d2-4ff1-b7f7-0d64043596a0",
        "colab": {
          "base_uri": "https://localhost:8080/",
          "height": 281
        }
      },
      "source": [
        "filter_no = mean_act_visualization(activations)"
      ],
      "execution_count": 74,
      "outputs": [
        {
          "output_type": "display_data",
          "data": {
            "image/png": "[encoded data removed]",
            "text/plain": [
              "<Figure size 432x288 with 1 Axes>"
            ]
          },
          "metadata": {
            "tags": [],
            "needs_background": "light"
          }
        }
      ]
    },
    {
      "cell_type": "code",
      "metadata": {
        "id": "qPK3mL8lwuQ7",
        "colab_type": "code",
        "colab": {
          "base_uri": "https://localhost:8080/",
          "height": 34
        },
        "outputId": "4de3ab0e-0bd3-4711-a15b-a1acb0b16967"
      },
      "source": [
        "p= activations.features[0 , filter_no]\n",
        "p.shape, p.mean()"
      ],
      "execution_count": 75,
      "outputs": [
        {
          "output_type": "execute_result",
          "data": {
            "text/plain": [
              "(torch.Size([24, 24]), tensor(0.5701, grad_fn=<MeanBackward0>))"
            ]
          },
          "metadata": {
            "tags": []
          },
          "execution_count": 75
        }
      ]
    },
    {
      "cell_type": "markdown",
      "metadata": {
        "id": "Q_gQ1zImM4Ee",
        "colab_type": "text"
      },
      "source": [
        "# Maximizing the activation of the max activation filter "
      ]
    },
    {
      "cell_type": "code",
      "metadata": {
        "id": "NuhGIlh1w0kP",
        "colab_type": "code",
        "colab": {
          "base_uri": "https://localhost:8080/",
          "height": 34
        },
        "outputId": "dc46aa58-c984-4b7e-fce5-91391eb7d39d"
      },
      "source": [
        "i = p.cpu().clone().detach().numpy()\n",
        "type(i), i.mean()"
      ],
      "execution_count": 76,
      "outputs": [
        {
          "output_type": "execute_result",
          "data": {
            "text/plain": [
              "(numpy.ndarray, 0.5700566)"
            ]
          },
          "metadata": {
            "tags": []
          },
          "execution_count": 76
        }
      ]
    },
    {
      "cell_type": "code",
      "metadata": {
        "id": "9OQc78mNw9q_",
        "colab_type": "code",
        "colab": {
          "base_uri": "https://localhost:8080/",
          "height": 248
        },
        "outputId": "9eeb3685-41e5-47ef-8bc0-605b726a2463"
      },
      "source": [
        "plt.imshow(i, cmap = 'gray')\n",
        "plt.axis(False)\n",
        "plt.show()"
      ],
      "execution_count": 77,
      "outputs": [
        {
          "output_type": "display_data",
          "data": {
            "image/png": "[encoded data removed]",
            "text/plain": [
              "<Figure size 432x288 with 1 Axes>"
            ]
          },
          "metadata": {
            "tags": [],
            "needs_background": "light"
          }
        }
      ]
    },
    {
      "cell_type": "code",
      "metadata": {
        "id": "OT8M1w2G_h8q",
        "colab_type": "code",
        "colab": {}
      },
      "source": [
        "def denorm(im):\n",
        "  try:\n",
        "    imgs = im.cpu().clone().detach().numpy().squeeze()\n",
        "  except:\n",
        "    imgs = im\n",
        "  imgs = imgs.clip(0,1)\n",
        "  return imgs\n",
        "\n",
        "def tfms(image):\n",
        "  _transform = transforms.Compose([ \n",
        "                                      transforms.ToTensor(),\n",
        "                                      transforms.Normalize((0.5,),(0.5,)),\n",
        "\n",
        "  ])\n",
        "  imag = _transform(image)\n",
        "  plt.imshow(denorm(imag))\n",
        "  imag = imag.unsqueeze(0)\n",
        "  imag = imag.to(device)\n",
        "  imag.requires_grad_()\n",
        "  return imag"
      ],
      "execution_count": 0,
      "outputs": []
    },
    {
      "cell_type": "code",
      "metadata": {
        "id": "YF6khI_y3SfU",
        "colab_type": "code",
        "colab": {}
      },
      "source": [
        "class FilterVisual():\n",
        "  def __init__(self, mod, size = 56, upscaling_step = 12, upscaling_factor = 1.2):\n",
        "    self.size = size\n",
        "    self.upscaling_step = upscaling_step\n",
        "    self.upscaling_factor = upscaling_factor\n",
        "    self.mymodel = mod\n",
        "    self.mymodel.eval()\n",
        "    \n",
        "  def visualizer(self, layer, n_step, filter_pos, lr):\n",
        "    sz = self.size\n",
        "    img = np.float32(np.random.uniform(180, 200, (sz, sz))/255.)\n",
        "    active_org = get_activation_layer(model, layer)\n",
        "    for _ in range(self.upscaling_step):\n",
        "      img_var = tfms(img)\n",
        "      optimizer = torch.optim.Adam([img_var], lr = lr, weight_decay=1e-6)\n",
        "      for n in range(n_step):\n",
        "        optimizer.zero_grad()\n",
        "        _ =self.mymodel(img_var)\n",
        "        loss = -1 * (active_org.actual_features[0, filter_pos].mean())\n",
        "        #print(loss)\n",
        "        loss.backward()\n",
        "        optimizer.step()\n",
        "      print(loss)\n",
        "      img = denorm(img_var[0])\n",
        "      sz = int(self.upscaling_factor * sz)\n",
        "      img = cv2.resize(img, (sz, sz) , interpolation=cv2.INTER_CUBIC)\n",
        "    plt.imshow(img, cmap = 'gray')\n",
        "    plt.grid('off')\n",
        "    plt.axis('off')\n",
        "    plt.show()  \n"
      ],
      "execution_count": 0,
      "outputs": []
    },
    {
      "cell_type": "code",
      "metadata": {
        "id": "XZVJMGishpgF",
        "colab_type": "code",
        "colab": {
          "base_uri": "https://localhost:8080/",
          "height": 382
        },
        "outputId": "07e69ebc-26eb-4419-ffc1-5f5f8900e4e2"
      },
      "source": [
        "import cv2\n",
        "model_mod = model.features\n",
        "SIZE = 30\n",
        "Up_Stp = 8\n",
        "Up_Fact = 1.4\n",
        "F = FilterVisual(model_mod, SIZE, Up_Stp, Up_Fact)\n",
        "\n",
        "LAYER = layer\n",
        "LR = 0.1\n",
        "N_STEP = 200\n",
        "F.visualizer(LAYER,N_STEP,filter_no,LR)"
      ],
      "execution_count": 104,
      "outputs": [
        {
          "output_type": "stream",
          "text": [
            "tensor(-18.2470, grad_fn=<MulBackward0>)\n",
            "tensor(-17.4033, grad_fn=<MulBackward0>)\n",
            "tensor(-15.2062, grad_fn=<MulBackward0>)\n",
            "tensor(-13.4816, grad_fn=<MulBackward0>)\n",
            "tensor(-11.7630, grad_fn=<MulBackward0>)\n",
            "tensor(-9.5826, grad_fn=<MulBackward0>)\n",
            "tensor(-6.3239, grad_fn=<MulBackward0>)\n",
            "tensor(-3.3397, grad_fn=<MulBackward0>)\n"
          ],
          "name": "stdout"
        },
        {
          "output_type": "display_data",
          "data": {
            "image/png": "[encoded data removed]",
            "text/plain": [
              "<Figure size 432x288 with 1 Axes>"
            ]
          },
          "metadata": {
            "tags": [],
            "needs_background": "light"
          }
        }
      ]
    },
    {
      "cell_type": "code",
      "metadata": {
        "id": "uDOpKvdMvmch",
        "colab_type": "code",
        "colab": {}
      },
      "source": [
        ""
      ],
      "execution_count": 0,
      "outputs": []
    }
  ]
}